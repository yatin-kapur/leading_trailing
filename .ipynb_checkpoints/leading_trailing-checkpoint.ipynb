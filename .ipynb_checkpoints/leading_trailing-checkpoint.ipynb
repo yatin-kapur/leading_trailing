{
 "cells": [
  {
   "cell_type": "code",
   "execution_count": 15,
   "metadata": {},
   "outputs": [],
   "source": [
    "import bs4 as bs\n",
    "import urllib3\n",
    "import numpy as np"
   ]
  },
  {
   "cell_type": "code",
   "execution_count": 62,
   "metadata": {},
   "outputs": [],
   "source": [
    "url = 'http://www.football-lineups.com/match/277228'\n",
    "user_agent = {'user-agent': 'Mozilla/5.0 (Windows NT 6.3; rv:36.0) Gecko/20100101 Firefox/36.0'}\n",
    "http = urllib3.PoolManager(2, user_agent)\n",
    "response = http.request('GET', url)\n",
    "soup = bs.BeautifulSoup(response.data, 'lxml')"
   ]
  },
  {
   "cell_type": "code",
   "execution_count": 63,
   "metadata": {},
   "outputs": [],
   "source": [
    "teams = soup.find_all('span', {'id': 'titequip'})\n",
    "teams = [t.text for t in teams]\n",
    "home_team = teams[0]\n",
    "away_team = teams[1]"
   ]
  },
  {
   "cell_type": "code",
   "execution_count": 64,
   "metadata": {},
   "outputs": [],
   "source": [
    "goal_times = soup.find_all('td', {'width': '30', 'align': 'middle'})\n",
    "goal_times = [int(gt.text[:-1]) for gt in goal_times]\n",
    "score = soup.find_all('td', {'width': '25', 'align': 'middle'})\n",
    "score = [s.text for s in score]\n",
    "\n",
    "goals = [[goal_times[i], score[i]] for i in range(0, len(score)) if score[i] != ' ' and score[i] != '\\xa0\\xa0\\xa0']"
   ]
  },
  {
   "cell_type": "code",
   "execution_count": 65,
   "metadata": {},
   "outputs": [
    {
     "data": {
      "text/plain": [
       "[[12, '1-0'], [43, '2-0'], [71, '3-0'], [91, '4-0'], [94, '5-0']]"
      ]
     },
     "execution_count": 65,
     "metadata": {},
     "output_type": "execute_result"
    }
   ],
   "source": [
    "goals"
   ]
  }
 ],
 "metadata": {
  "kernelspec": {
   "display_name": "Python 3",
   "language": "python",
   "name": "python3"
  },
  "language_info": {
   "codemirror_mode": {
    "name": "ipython",
    "version": 3
   },
   "file_extension": ".py",
   "mimetype": "text/x-python",
   "name": "python",
   "nbconvert_exporter": "python",
   "pygments_lexer": "ipython3",
   "version": "3.6.0"
  }
 },
 "nbformat": 4,
 "nbformat_minor": 2
}
