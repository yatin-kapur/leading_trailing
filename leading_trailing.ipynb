{
 "cells": [
  {
   "cell_type": "code",
   "execution_count": 1,
   "metadata": {},
   "outputs": [],
   "source": [
    "import bs4 as bs\n",
    "import urllib3\n",
    "import numpy as np\n",
    "import re\n",
    "\n",
    "match_id = 266271"
   ]
  },
  {
   "cell_type": "code",
   "execution_count": 2,
   "metadata": {},
   "outputs": [],
   "source": [
    "url = 'http://www.football-lineups.com/match/%s' % match_id\n",
    "user_agent = {'user-agent': 'Mozilla/5.0 (Windows NT 6.3; rv:36.0) Gecko/20100101 Firefox/36.0'}\n",
    "http = urllib3.PoolManager(2, user_agent)\n",
    "response = http.request('GET', url)\n",
    "soup = bs.BeautifulSoup(response.data, 'lxml')"
   ]
  },
  {
   "cell_type": "code",
   "execution_count": 3,
   "metadata": {},
   "outputs": [],
   "source": [
    "date = soup.find_all('a', {'href': re.compile('^/date/[0-9]')})[0]['href'].split('/')[-2]\n",
    "\n",
    "goal_times = soup.find_all('td', {'width': '30', 'align': 'middle'})\n",
    "goal_times = [int(gt.text[:-1]) for gt in goal_times]\n",
    "score = soup.find_all('td', {'width': '25', 'align': 'middle'})\n",
    "score = [s.text for s in score]\n",
    "\n",
    "# check for 0-0\n",
    "final = soup.find_all('font', {'size': \"+2\"})\n",
    "home_team = final[0].text.strip()\n",
    "away_team = final[1].text.strip()\n",
    "home_final = int(final[2].text.strip())\n",
    "away_final = int(final[4].text.strip())"
   ]
  },
  {
   "cell_type": "code",
   "execution_count": 18,
   "metadata": {},
   "outputs": [
    {
     "data": {
      "text/plain": [
       "'Deportivo La CoruĂąa'"
      ]
     },
     "execution_count": 18,
     "metadata": {},
     "output_type": "execute_result"
    }
   ],
   "source": [
    "final[1].text"
   ]
  },
  {
   "cell_type": "code",
   "execution_count": 17,
   "metadata": {},
   "outputs": [
    {
     "ename": "UnicodeEncodeError",
     "evalue": "'latin-1' codec can't encode characters in position 17-18: ordinal not in range(256)",
     "output_type": "error",
     "traceback": [
      "\u001b[0;31m---------------------------------------------------------------------------\u001b[0m",
      "\u001b[0;31mUnicodeEncodeError\u001b[0m                        Traceback (most recent call last)",
      "\u001b[0;32m<ipython-input-17-f9b21e9f33ef>\u001b[0m in \u001b[0;36m<module>\u001b[0;34m()\u001b[0m\n\u001b[0;32m----> 1\u001b[0;31m \u001b[0mfinal\u001b[0m\u001b[0;34m[\u001b[0m\u001b[0;36m1\u001b[0m\u001b[0;34m]\u001b[0m\u001b[0;34m.\u001b[0m\u001b[0mtext\u001b[0m\u001b[0;34m.\u001b[0m\u001b[0mencode\u001b[0m\u001b[0;34m(\u001b[0m\u001b[0;34m'latin-1'\u001b[0m\u001b[0;34m)\u001b[0m\u001b[0;34m\u001b[0m\u001b[0m\n\u001b[0m",
      "\u001b[0;31mUnicodeEncodeError\u001b[0m: 'latin-1' codec can't encode characters in position 17-18: ordinal not in range(256)"
     ]
    }
   ],
   "source": [
    "final[1].text.encode('latin-1')"
   ]
  },
  {
   "cell_type": "code",
   "execution_count": null,
   "metadata": {},
   "outputs": [],
   "source": [
    "goals = [[goal_times[i], int(score[i][0]), int(score[i][-1])] for i in range(0, len(score)) if score[i] != ' ' and score[i] != '\\xa0\\xa0\\xa0']\n",
    "if home_final == 0 and away_final == 0:\n",
    "    goals = [[0, 0, 0], [90, 0, 0]]\n",
    "\n",
    "insert_dict = {'match_id': match_id, 'home_team': home_team, 'away_team': away_team}\n",
    "\n",
    "for entry in goals:\n",
    "    insert_dict['minute'] = entry[0]\n",
    "    insert_dict['home_score'] = entry[1]\n",
    "    insert_dict['away_score'] = entry[2]\n",
    "    # call insert function"
   ]
  },
  {
   "cell_type": "code",
   "execution_count": null,
   "metadata": {},
   "outputs": [],
   "source": []
  }
 ],
 "metadata": {
  "kernelspec": {
   "display_name": "Python 3",
   "language": "python",
   "name": "python3"
  },
  "language_info": {
   "codemirror_mode": {
    "name": "ipython",
    "version": 3
   },
   "file_extension": ".py",
   "mimetype": "text/x-python",
   "name": "python",
   "nbconvert_exporter": "python",
   "pygments_lexer": "ipython3",
   "version": "3.6.0"
  }
 },
 "nbformat": 4,
 "nbformat_minor": 2
}
